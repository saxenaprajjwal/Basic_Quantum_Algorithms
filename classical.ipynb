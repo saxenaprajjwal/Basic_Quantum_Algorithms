{
 "cells": [
  {
   "cell_type": "code",
   "execution_count": 6,
   "id": "e60b851f",
   "metadata": {},
   "outputs": [
    {
     "name": "stdout",
     "output_type": "stream",
     "text": [
      "Solution using direct solve: [ 0.375 -0.125]\n",
      "Solution using Conjugate Gradient: [ 0.375 -0.125]\n",
      "Conjugate Gradient converged successfully.\n",
      "Residual (direct solve): [0. 0.]\n"
     ]
    }
   ],
   "source": [
    "import numpy as np\n",
    "from scipy.sparse.linalg import cg  # Conjugate Gradient (for large/sparse systems)\n",
    "\n",
    "# Example: Define a matrix A and vector b\n",
    "A = np.array([[3,1],\n",
    "              [1,3],\n",
    "              ])\n",
    "\n",
    "b = np.array([1, 0])\n",
    "\n",
    "# --- Method 1: Direct Solve (for small/medium systems) ---\n",
    "x_direct = np.linalg.solve(A, b)\n",
    "print(\"Solution using direct solve:\", x_direct)\n",
    "\n",
    "# --- Method 2: Iterative Solver (Conjugate Gradient for large/sparse systems) ---\n",
    "# Note: Requires A to be symmetric positive definite\n",
    "x_iter, info = cg(A, b)\n",
    "\n",
    "print(\"Solution using Conjugate Gradient:\", x_iter)\n",
    "if info == 0:\n",
    "    print(\"Conjugate Gradient converged successfully.\")\n",
    "else:\n",
    "    print(\"Conjugate Gradient did not converge, info =\", info)\n",
    "\n",
    "# --- Verification ---\n",
    "residual = np.dot(A, x_direct) - b\n",
    "print(\"Residual (direct solve):\", residual)\n"
   ]
  }
 ],
 "metadata": {
  "kernelspec": {
   "display_name": "qiskit_vnv",
   "language": "python",
   "name": "python3"
  },
  "language_info": {
   "codemirror_mode": {
    "name": "ipython",
    "version": 3
   },
   "file_extension": ".py",
   "mimetype": "text/x-python",
   "name": "python",
   "nbconvert_exporter": "python",
   "pygments_lexer": "ipython3",
   "version": "3.10.11"
  }
 },
 "nbformat": 4,
 "nbformat_minor": 5
}
